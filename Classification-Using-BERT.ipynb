{
  "cells": [
    {
      "cell_type": "markdown",
      "metadata": {
        "id": "view-in-github",
        "colab_type": "text"
      },
      "source": [
        "<a href=\"https://colab.research.google.com/github/melbanna3/Movies-Reviews-Classification-Using-BERT/blob/main/Classification-Using-BERT.ipynb\" target=\"_parent\"><img src=\"https://colab.research.google.com/assets/colab-badge.svg\" alt=\"Open In Colab\"/></a>"
      ]
    },
    {
      "cell_type": "markdown",
      "metadata": {
        "id": "sxBSrJo-jywg"
      },
      "source": [
        "# **Importing and Reading the Dataset**"
      ]
    },
    {
      "cell_type": "code",
      "execution_count": null,
      "metadata": {
        "colab": {
          "base_uri": "https://localhost:8080/"
        },
        "id": "evLQIPxOtvEi",
        "outputId": "7aa8aa42-031b-45d2-90f1-89052d25bb2a"
      },
      "outputs": [
        {
          "output_type": "stream",
          "name": "stdout",
          "text": [
            "Drive already mounted at /content/drive; to attempt to forcibly remount, call drive.mount(\"/content/drive\", force_remount=True).\n"
          ]
        }
      ],
      "source": [
        "from google.colab import drive\n",
        "drive.mount('/content/drive')"
      ]
    },
    {
      "cell_type": "code",
      "execution_count": null,
      "metadata": {
        "id": "yUJNkBjfgBvV"
      },
      "outputs": [],
      "source": [
        "import numpy as np\n",
        "import pandas as pd\n",
        "\n",
        "df = pd.read_csv('/content/drive/MyDrive/AI/IMDB.csv')"
      ]
    },
    {
      "cell_type": "code",
      "execution_count": null,
      "metadata": {
        "id": "rDDKeNZjiMdn"
      },
      "outputs": [],
      "source": [
        "Data  = df.to_numpy()\n",
        "labels = Data[:,1]\n",
        "Data = Data[:,0]\n",
        "labels=np.reshape(labels,(np.shape(labels)[0],1))\n",
        "Data=np.reshape(Data,(np.shape(Data)[0],1))\n",
        "Data = Data[:,0]\n",
        "Ylab = labels[:,0]"
      ]
    },
    {
      "cell_type": "code",
      "execution_count": null,
      "metadata": {
        "colab": {
          "base_uri": "https://localhost:8080/",
          "height": 330
        },
        "id": "v_-_lm0ez-NF",
        "outputId": "51d6ed62-62c0-4941-8055-e0df7f98e308"
      },
      "outputs": [
        {
          "data": {
            "text/plain": [
              "<matplotlib.axes._subplots.AxesSubplot at 0x7fc027a52750>"
            ]
          },
          "execution_count": 4,
          "metadata": {},
          "output_type": "execute_result"
        },
        {
          "data": {
            "image/png": "[encoded data removed]",
            "text/plain": [
              "<Figure size 432x288 with 1 Axes>"
            ]
          },
          "metadata": {},
          "output_type": "display_data"
        }
      ],
      "source": [
        "df.groupby(['sentiment']).size().plot.bar()"
      ]
    },
    {
      "cell_type": "markdown",
      "metadata": {
        "id": "WTJsP9yhqeNg"
      },
      "source": [
        "# **Text Pre-processing**"
      ]
    },
    {
      "cell_type": "code",
      "execution_count": null,
      "metadata": {
        "colab": {
          "base_uri": "https://localhost:8080/"
        },
        "id": "My2sO2FB0QI8",
        "outputId": "2951541f-0abf-423d-aa2c-bcfdd640de33"
      },
      "outputs": [
        {
          "output_type": "stream",
          "name": "stderr",
          "text": [
            "[nltk_data] Downloading package punkt to /root/nltk_data...\n",
            "[nltk_data]   Unzipping tokenizers/punkt.zip.\n",
            "[nltk_data] Downloading package stopwords to /root/nltk_data...\n",
            "[nltk_data]   Unzipping corpora/stopwords.zip.\n",
            "[nltk_data] Downloading package wordnet to /root/nltk_data...\n",
            "[nltk_data]   Unzipping corpora/wordnet.zip.\n"
          ]
        },
        {
          "output_type": "execute_result",
          "data": {
            "text/plain": [
              "True"
            ]
          },
          "metadata": {},
          "execution_count": 4
        }
      ],
      "source": [
        "import nltk\n",
        "nltk.download('punkt') #punctuation\n",
        "nltk.download('stopwords') #stopwords\n",
        "nltk.download('wordnet') #lemmatization"
      ]
    },
    {
      "cell_type": "code",
      "execution_count": null,
      "metadata": {
        "id": "HXnxWOdct7Wv",
        "colab": {
          "base_uri": "https://localhost:8080/"
        },
        "outputId": "b9ffac48-5091-41b5-b4f4-1e8a6c4186d2"
      },
      "outputs": [
        {
          "output_type": "stream",
          "name": "stderr",
          "text": [
            "[nltk_data] Downloading package omw-1.4 to /root/nltk_data...\n",
            "[nltk_data]   Unzipping corpora/omw-1.4.zip.\n"
          ]
        }
      ],
      "source": [
        "import string \n",
        "from nltk.tokenize import word_tokenize\n",
        "from nltk.corpus import stopwords\n",
        "from nltk.stem import WordNetLemmatizer\n",
        "\n",
        "nltk.download('omw-1.4')\n",
        "stop_words = set(stopwords.words('english'))\n",
        "tokenizer = nltk.RegexpTokenizer(r\"\\w+\")\n",
        "preprocessed_data = []\n",
        "for d in Data:\n",
        "  new_words = tokenizer.tokenize(d.lower())\n",
        "  lemmatizer = WordNetLemmatizer()\n",
        "  filtered_sentence = []\n",
        "\n",
        "  for w in new_words:\n",
        "      if w not in stop_words:\n",
        "          filtered_sentence.append(w)\n",
        "  for i in range(0,len(filtered_sentence)):\n",
        "    filtered_sentence[i] = lemmatizer.lemmatize(filtered_sentence[i])\n",
        "\n",
        "  new_data = \" \".join(filtered_sentence)\n",
        "  preprocessed_data.append(new_data)"
      ]
    },
    {
      "cell_type": "markdown",
      "metadata": {
        "id": "lv8nirPTxQEb"
      },
      "source": [
        "# **Splitting Data**"
      ]
    },
    {
      "cell_type": "code",
      "execution_count": null,
      "metadata": {
        "id": "lOe0tXqSkWXC"
      },
      "outputs": [],
      "source": [
        "from sklearn.model_selection import train_test_split\n",
        "\n",
        "def split_data(Data,labels):\n",
        "  train,test,trainLabels,testLabels=train_test_split(Data[:], labels[:], test_size=0.2, random_state=5, stratify=labels[:])\n",
        "  train,val,trainLabels,valLabels=train_test_split(train[:], trainLabels[:], test_size=0.125, random_state=5, stratify=trainLabels[:])\n",
        "  return train,val,test,trainLabels,valLabels,testLabels"
      ]
    },
    {
      "cell_type": "code",
      "execution_count": null,
      "metadata": {
        "id": "diubxjVxy2qw"
      },
      "outputs": [],
      "source": [
        "train,val,test,trainLabels,valLabels,testLabels = split_data(preprocessed_data,Ylab)\n",
        "trainW,valW,testW,trainLabelsW,valLabelsW,testLabelsW = split_data(Data,Ylab)"
      ]
    },
    {
      "cell_type": "code",
      "execution_count": null,
      "metadata": {
        "colab": {
          "base_uri": "https://localhost:8080/"
        },
        "id": "ujObnqk0mmUZ",
        "outputId": "75916027-7eee-4bda-f8aa-1b0c60c4ef14"
      },
      "outputs": [
        {
          "output_type": "stream",
          "name": "stdout",
          "text": [
            "Number of positives in train:  17500\n",
            "Size of train:  35000\n",
            "Number of positives in test: 5000\n",
            "Size of test:  10000\n"
          ]
        }
      ],
      "source": [
        "pos=0\n",
        "for lab in trainLabels:\n",
        "  if lab == 'positive': pos +=1\n",
        "print('Number of positives in train: ',pos)\n",
        "print('Size of train: ',np.shape(train)[0])\n",
        "\n",
        "pos=0\n",
        "for lab in testLabels:\n",
        "  if lab == 'positive': pos +=1\n",
        "print('Number of positives in test:',pos)\n",
        "print('Size of test: ',np.shape(test)[0])"
      ]
    },
    {
      "cell_type": "markdown",
      "metadata": {
        "id": "5ulmHniGzS4t"
      },
      "source": [
        "# **Bert Model**"
      ]
    },
    {
      "cell_type": "code",
      "execution_count": null,
      "metadata": {
        "colab": {
          "base_uri": "https://localhost:8080/"
        },
        "id": "xP565V-WcWc5",
        "outputId": "eccf8e38-333a-46da-fe38-2512aa9c607c"
      },
      "outputs": [
        {
          "output_type": "stream",
          "name": "stdout",
          "text": [
            "Looking in indexes: https://pypi.org/simple, https://us-python.pkg.dev/colab-wheels/public/simple/\n",
            "Collecting transformers\n",
            "  Downloading transformers-4.20.1-py3-none-any.whl (4.4 MB)\n",
            "\u001b[K     |████████████████████████████████| 4.4 MB 28.7 MB/s \n",
            "\u001b[?25hCollecting huggingface-hub<1.0,>=0.1.0\n",
            "  Downloading huggingface_hub-0.8.1-py3-none-any.whl (101 kB)\n",
            "\u001b[K     |████████████████████████████████| 101 kB 14.4 MB/s \n",
            "\u001b[?25hRequirement already satisfied: filelock in /usr/local/lib/python3.7/dist-packages (from transformers) (3.7.1)\n",
            "Requirement already satisfied: requests in /usr/local/lib/python3.7/dist-packages (from transformers) (2.23.0)\n",
            "Requirement already satisfied: tqdm>=4.27 in /usr/local/lib/python3.7/dist-packages (from transformers) (4.64.0)\n",
            "Requirement already satisfied: regex!=2019.12.17 in /usr/local/lib/python3.7/dist-packages (from transformers) (2022.6.2)\n",
            "Requirement already satisfied: importlib-metadata in /usr/local/lib/python3.7/dist-packages (from transformers) (4.11.4)\n",
            "Requirement already satisfied: packaging>=20.0 in /usr/local/lib/python3.7/dist-packages (from transformers) (21.3)\n",
            "Collecting tokenizers!=0.11.3,<0.13,>=0.11.1\n",
            "  Downloading tokenizers-0.12.1-cp37-cp37m-manylinux_2_12_x86_64.manylinux2010_x86_64.whl (6.6 MB)\n",
            "\u001b[K     |████████████████████████████████| 6.6 MB 45.2 MB/s \n",
            "\u001b[?25hCollecting pyyaml>=5.1\n",
            "  Downloading PyYAML-6.0-cp37-cp37m-manylinux_2_5_x86_64.manylinux1_x86_64.manylinux_2_12_x86_64.manylinux2010_x86_64.whl (596 kB)\n",
            "\u001b[K     |████████████████████████████████| 596 kB 73.8 MB/s \n",
            "\u001b[?25hRequirement already satisfied: numpy>=1.17 in /usr/local/lib/python3.7/dist-packages (from transformers) (1.21.6)\n",
            "Requirement already satisfied: typing-extensions>=3.7.4.3 in /usr/local/lib/python3.7/dist-packages (from huggingface-hub<1.0,>=0.1.0->transformers) (4.1.1)\n",
            "Requirement already satisfied: pyparsing!=3.0.5,>=2.0.2 in /usr/local/lib/python3.7/dist-packages (from packaging>=20.0->transformers) (3.0.9)\n",
            "Requirement already satisfied: zipp>=0.5 in /usr/local/lib/python3.7/dist-packages (from importlib-metadata->transformers) (3.8.0)\n",
            "Requirement already satisfied: idna<3,>=2.5 in /usr/local/lib/python3.7/dist-packages (from requests->transformers) (2.10)\n",
            "Requirement already satisfied: certifi>=2017.4.17 in /usr/local/lib/python3.7/dist-packages (from requests->transformers) (2022.6.15)\n",
            "Requirement already satisfied: urllib3!=1.25.0,!=1.25.1,<1.26,>=1.21.1 in /usr/local/lib/python3.7/dist-packages (from requests->transformers) (1.24.3)\n",
            "Requirement already satisfied: chardet<4,>=3.0.2 in /usr/local/lib/python3.7/dist-packages (from requests->transformers) (3.0.4)\n",
            "Installing collected packages: pyyaml, tokenizers, huggingface-hub, transformers\n",
            "  Attempting uninstall: pyyaml\n",
            "    Found existing installation: PyYAML 3.13\n",
            "    Uninstalling PyYAML-3.13:\n",
            "      Successfully uninstalled PyYAML-3.13\n",
            "Successfully installed huggingface-hub-0.8.1 pyyaml-6.0 tokenizers-0.12.1 transformers-4.20.1\n"
          ]
        }
      ],
      "source": [
        "!pip install transformers\n",
        "import torch\n",
        "from transformers import BertTokenizer, BertModel\n",
        "from torch import nn\n",
        "from torch.optim import Adam\n",
        "from tqdm import tqdm"
      ]
    },
    {
      "cell_type": "code",
      "execution_count": null,
      "metadata": {
        "colab": {
          "base_uri": "https://localhost:8080/"
        },
        "id": "y43TcVHQ09zt",
        "outputId": "23005202-3cf7-4df9-dcf4-846b11405922"
      },
      "outputs": [
        {
          "output_type": "execute_result",
          "data": {
            "text/plain": [
              "True"
            ]
          },
          "metadata": {},
          "execution_count": 3
        }
      ],
      "source": [
        "use_cuda = torch.cuda.is_available()\n",
        "use_cuda"
      ]
    },
    {
      "cell_type": "code",
      "execution_count": null,
      "metadata": {
        "colab": {
          "base_uri": "https://localhost:8080/",
          "height": 113,
          "referenced_widgets": [
            "469d21c6c224460bbcd1d794b1c75948",
            "2b41a0bec507485ea7801a0914dd2db9",
            "059c71f817334b41801873f346c26138",
            "e2a45079b406432d91c7b76f726f0743",
            "1f1d16b15fb84724aa5e7e145b2030ff",
            "9d547df32897402ba822b9d0ed171351",
            "6951be479a124caca63b4834efeb3b06",
            "bc81f82ca182499d9cdbd8d0f90b0aa6",
            "5d5469b547d14c8d8f7aeca2571c3241",
            "82c5d9d0b42b4503b049b12fa0e31144",
            "add169c7eb6f4701ae0bd238b92c0d6d",
            "35057aced62149298a142657e6dad31d",
            "3407a32958784916ba31888bac4b9b32",
            "3d0be4236fb843518c1839cf5315b1df",
            "d0b29b28e6f549d79f1ca5b12e027cd3",
            "ced06462788a45d2a85efdd41fc95066",
            "5cc52f6b2ad940eea722f1158849f5d7",
            "c027b90a25d94bf4aaa105af53bcc0ff",
            "6d8bd5679ce34ac4935af0005c300e34",
            "0ec4a22ad1e24c388a74197b9619014e",
            "722cddbbe09b4a57a5b8ecbd97bbf01d",
            "9a041158171143a39b5a781b15293dc1",
            "a4710a4bad6d4fb092a75a262e5fb7e1",
            "07529f298578462089d51cc8ee93385c",
            "e4e412629fb840f3a5344a37ce644a3c",
            "bc44a60e9d2a4fae81c7d685b84269f2",
            "98a8cabf90ff4edb9ccb2ed5950653ac",
            "43f28315ad504d53bed438a2aca4d43a",
            "b6dc397b766147aca5d40dbd67fe5616",
            "03125355623a429f927121008ac560a8",
            "fcfcef329ac24b08830f9e1fd592f10c",
            "2cd38a99e82d45e596fea9cf913a818c",
            "9bcee5ba2baf44eca22f5754c11637da"
          ]
        },
        "id": "MA0kI7OXzcAm",
        "outputId": "cd067210-88e2-4091-dca8-56b5623cd570"
      },
      "outputs": [
        {
          "output_type": "display_data",
          "data": {
            "text/plain": [
              "Downloading:   0%|          | 0.00/208k [00:00<?, ?B/s]"
            ],
            "application/vnd.jupyter.widget-view+json": {
              "version_major": 2,
              "version_minor": 0,
              "model_id": "469d21c6c224460bbcd1d794b1c75948"
            }
          },
          "metadata": {}
        },
        {
          "output_type": "display_data",
          "data": {
            "text/plain": [
              "Downloading:   0%|          | 0.00/29.0 [00:00<?, ?B/s]"
            ],
            "application/vnd.jupyter.widget-view+json": {
              "version_major": 2,
              "version_minor": 0,
              "model_id": "35057aced62149298a142657e6dad31d"
            }
          },
          "metadata": {}
        },
        {
          "output_type": "display_data",
          "data": {
            "text/plain": [
              "Downloading:   0%|          | 0.00/570 [00:00<?, ?B/s]"
            ],
            "application/vnd.jupyter.widget-view+json": {
              "version_major": 2,
              "version_minor": 0,
              "model_id": "a4710a4bad6d4fb092a75a262e5fb7e1"
            }
          },
          "metadata": {}
        }
      ],
      "source": [
        "tokenizer = BertTokenizer.from_pretrained('bert-base-cased')\n",
        "labelsCon = {'negative':0,'positive':1, }\n",
        "\n",
        "class Dataset(torch.utils.data.Dataset):\n",
        "\n",
        "    def __init__(self, X,Y):\n",
        "\n",
        "        # self.labels = [labels[label] for label in Y]\n",
        "        self.labels = []\n",
        "        for label in Y:\n",
        "          self.labels.append(labelsCon[label])\n",
        "        self.texts=[]\n",
        "        for text in X :\n",
        "          self.texts.append( tokenizer\n",
        "                      (text, padding='max_length', max_length = 512, truncation=True,\n",
        "                                return_tensors=\"pt\"))\n",
        "        # self.texts = [tokenizer\n",
        "        #               (text, padding='max_length', max_length = 512, truncation=True,\n",
        "        #                         return_tensors=\"pt\") for text in X]\n",
        "\n",
        "    def classes(self):\n",
        "        return self.labels\n",
        "\n",
        "    def __len__(self):\n",
        "        return len(self.labels)\n",
        "\n",
        "    def get_batch_labels(self, idx):\n",
        "        # Fetch a batch of labels\n",
        "        return np.array(self.labels[idx])\n",
        "\n",
        "    def get_batch_texts(self, idx):\n",
        "        # Fetch a batch of inputs\n",
        "        return self.texts[idx]\n",
        "\n",
        "    def __getitem__(self, idx):\n",
        "\n",
        "        batch_texts = self.get_batch_texts(idx)\n",
        "        batch_y = self.get_batch_labels(idx)\n",
        "\n",
        "        return batch_texts, batch_y"
      ]
    },
    {
      "cell_type": "code",
      "execution_count": null,
      "metadata": {
        "id": "iKs824BKHY9p"
      },
      "outputs": [],
      "source": [
        "class BertClassifier(nn.Module):\n",
        "\n",
        "    def __init__(self, dropout=0.2):\n",
        "        super(BertClassifier, self).__init__()\n",
        "        self.bert = BertModel.from_pretrained('bert-base-cased')\n",
        "        self.dropout = nn.Dropout(dropout)\n",
        "\n",
        "        self.fc1 = nn.Linear(768, 512)\n",
        "        self.fc2 = nn.Linear(512, 256)\n",
        "        self.fc3 = nn.Linear(256, 128)\n",
        "        self.fc4 = nn.Linear(128, 64)\n",
        "\n",
        "        self.bn1 = nn.BatchNorm1d(512)\n",
        "        self.bn2 = nn.BatchNorm1d(256)\n",
        "        self.bn3 = nn.BatchNorm1d(128)\n",
        "        self.bn4 = nn.BatchNorm1d(64)\n",
        "\n",
        "        self.output = nn.Linear(64, 1)\n",
        "        self.sigmoid = nn.Sigmoid()\n",
        "        self.relu = nn.ReLU()\n",
        "\n",
        "    def forward(self, input_id, mask):\n",
        "\n",
        "        _, clsToken = self.bert(input_ids= input_id, attention_mask=mask,return_dict=False) \n",
        "        x = self.dropout(clsToken)\n",
        "        \n",
        "        x = self.fc1(x)\n",
        "        # x = self.bn1(x)\n",
        "        x = self.relu(x)\n",
        "        x = self.dropout(x)\n",
        "\n",
        "        x = self.fc2(x)\n",
        "        # x = self.bn2(x)\n",
        "        x = self.relu(x)\n",
        "        x = self.dropout(x)\n",
        "\n",
        "        x = self.fc3(x)\n",
        "        # x = self.bn3(x)\n",
        "        x = self.relu(x)\n",
        "        x = self.dropout(x)\n",
        "\n",
        "        x = self.fc4(x)\n",
        "        # x = self.bn4(x)\n",
        "        x = self.relu(x)\n",
        "        x = self.dropout(x)\n",
        "\n",
        "        x = self.output(x)\n",
        "        x = self.sigmoid(x)\n",
        "        return x"
      ]
    },
    {
      "cell_type": "code",
      "execution_count": null,
      "metadata": {
        "id": "CUoBixz9Ua4n"
      },
      "outputs": [],
      "source": [
        "def train_Model(model,trainDataLoader,valDataLoader,trainLabels,valLabels,lr,epochs):\n",
        "\n",
        "  use_cuda = torch.cuda.is_available()\n",
        "  device = torch.device(\"cuda\" if use_cuda else \"cpu\")\n",
        "  criterion = nn.BCEWithLogitsLoss()\n",
        "  optimizer = Adam(model.parameters(), lr= lr)\n",
        "  \n",
        "  if use_cuda:\n",
        "    model = model.cuda()\n",
        "    criterion = criterion.cuda()\n",
        "    print(\"Running on Cuda GPU\")\n",
        "  trainAccuracy_list = list(np.load('/content/drive/MyDrive/AI/trainAccuracy_list0.0001.npy'))\n",
        "  trainLoss_list = list(np.load('/content/drive/MyDrive/AI/trainLoss_list0.0001.npy'))\n",
        "  valAccuracy_list = list(np.load('/content/drive/MyDrive/AI/valAccuracy_list0.0001.npy'))\n",
        "  valLoss_list = list(np.load('/content/drive/MyDrive/AI/valLoss_list0.0001.npy'))\n",
        "  best = np.load('/content/drive/MyDrive/AI/best0.0001.npy')\n",
        "  for epoch in range(3,epochs):\n",
        "            trainAcc = 0\n",
        "            trainLoss = 0\n",
        "\n",
        "            for train_input, train_label in tqdm(trainDataLoader):\n",
        "\n",
        "                train_label = train_label.to(device)\n",
        "                train_label = train_label.to(torch.float32)\n",
        "                mask = train_input['attention_mask'].to(device)\n",
        "                input_id = train_input['input_ids'].squeeze(1).to(device)\n",
        "                output = model(input_id, mask)\n",
        "\n",
        "                batch_loss = criterion(output, train_label.unsqueeze(1))\n",
        "                trainLoss += batch_loss.item()              \n",
        "                output = torch.round(output)\n",
        "                for j in range(0,len(output)):\n",
        "                      if output[j] == train_label[j]:\n",
        "                        trainAcc += 1\n",
        "\n",
        "                model.zero_grad()\n",
        "                batch_loss.backward()\n",
        "                optimizer.step()\n",
        "              \n",
        "            valAcc = 0\n",
        "            valLoss = 0\n",
        "            with torch.no_grad():\n",
        "\n",
        "                for val_input, val_label in valDataLoader:\n",
        "\n",
        "                    val_label = val_label.to(device)\n",
        "                    val_label = val_label.to(torch.float32)\n",
        "                    mask = val_input['attention_mask'].to(device)\n",
        "                    input_id = val_input['input_ids'].squeeze(1).to(device)\n",
        "                    output = model(input_id, mask)\n",
        "\n",
        "                    batch_loss = criterion(output, val_label.unsqueeze(1))\n",
        "                    valLoss += batch_loss.item()\n",
        "                    output = torch.round(output)\n",
        "\n",
        "                    for j in range(0,len(output)):\n",
        "                      if output[j] == val_label[j]:\n",
        "                        valAcc += 1\n",
        "            \n",
        "            print(\n",
        "                f'Epochs: {epoch + 1} | Train Loss: {trainLoss / len(trainDataLoader.dataset): .3f} \\\n",
        "                | Train Accuracy: {trainAcc / len(trainDataLoader.dataset): .3f} \\\n",
        "                | Val Loss: {valLoss / len(valDataLoader.dataset): .3f} \\\n",
        "                | Val Accuracy: {valAcc / len(valDataLoader.dataset): .3f}')\n",
        "            \n",
        "            trainAccuracy_list.append(trainAcc / len(trainDataLoader.dataset))\n",
        "            trainLoss_list.append(trainLoss / len(trainDataLoader.dataset))\n",
        "            valAccuracy_list.append(valAcc / len(valDataLoader.dataset))\n",
        "            valLoss_list.append(valLoss / len(valDataLoader.dataset))\n",
        "            \n",
        "            if valAccuracy_list[epoch] >= valAccuracy_list[best] :\n",
        "              best = epoch\n",
        "              torch.save(model,'/content/drive/MyDrive/AI/model'+str(lr)+'.pt')\n",
        "            if epoch-2 > best:\n",
        "              break\n",
        "            np.save('/content/drive/MyDrive/AI/best'+str(lr),best)\n",
        "            np.save('/content/drive/MyDrive/AI/trainAccuracy_list'+str(lr),trainAccuracy_list)\n",
        "            np.save('/content/drive/MyDrive/AI/trainLoss_list'+str(lr),trainLoss_list)\n",
        "            np.save('/content/drive/MyDrive/AI/valAccuracy_list'+str(lr),valAccuracy_list)\n",
        "            np.save('/content/drive/MyDrive/AI/valLoss_list'+str(lr),valLoss_list)"
      ]
    },
    {
      "cell_type": "code",
      "execution_count": null,
      "metadata": {
        "id": "kQ-SCkBmye30"
      },
      "outputs": [],
      "source": [
        "def train_ModelW(model,trainDataLoader,valDataLoader,trainLabels,valLabels,lr,epochs):\n",
        "\n",
        "  use_cuda = torch.cuda.is_available()\n",
        "  device = torch.device(\"cuda\" if use_cuda else \"cpu\")\n",
        "  criterion = nn.BCEWithLogitsLoss()\n",
        "  optimizer = Adam(model.parameters(), lr= lr)\n",
        "  \n",
        "  if use_cuda:\n",
        "    model = model.cuda()\n",
        "    criterion = criterion.cuda()\n",
        "    print(\"Running on Cuda GPU\")\n",
        "  trainAccuracy_list = []\n",
        "  trainLoss_list = []\n",
        "  valAccuracy_list = []\n",
        "  valLoss_list = []\n",
        "  best = 0\n",
        "  for epoch in range(0,epochs):\n",
        "            trainAcc = 0\n",
        "            trainLoss = 0\n",
        "\n",
        "            for train_input, train_label in tqdm(trainDataLoader):\n",
        "\n",
        "                train_label = train_label.to(device)\n",
        "                train_label = train_label.to(torch.float32)\n",
        "                mask = train_input['attention_mask'].to(device)\n",
        "                input_id = train_input['input_ids'].squeeze(1).to(device)\n",
        "                output = model(input_id, mask)\n",
        "\n",
        "                batch_loss = criterion(output, train_label.unsqueeze(1))\n",
        "                trainLoss += batch_loss.item()              \n",
        "                output = torch.round(output)\n",
        "                for j in range(0,len(output)):\n",
        "                      if output[j] == train_label[j]:\n",
        "                        trainAcc += 1\n",
        "\n",
        "                model.zero_grad()\n",
        "                batch_loss.backward()\n",
        "                optimizer.step()\n",
        "              \n",
        "            valAcc = 0\n",
        "            valLoss = 0\n",
        "            with torch.no_grad():\n",
        "\n",
        "                for val_input, val_label in valDataLoader:\n",
        "\n",
        "                    val_label = val_label.to(device)\n",
        "                    val_label = val_label.to(torch.float32)\n",
        "                    mask = val_input['attention_mask'].to(device)\n",
        "                    input_id = val_input['input_ids'].squeeze(1).to(device)\n",
        "                    output = model(input_id, mask)\n",
        "\n",
        "                    batch_loss = criterion(output, val_label.unsqueeze(1))\n",
        "                    valLoss += batch_loss.item()\n",
        "                    output = torch.round(output)\n",
        "\n",
        "                    for j in range(0,len(output)):\n",
        "                      if output[j] == val_label[j]:\n",
        "                        valAcc += 1\n",
        "            \n",
        "            print(\n",
        "                f'Epochs: {epoch + 1} | Train Loss: {trainLoss / len(trainDataLoader.dataset): .3f} \\\n",
        "                | Train Accuracy: {trainAcc / len(trainDataLoader.dataset): .3f} \\\n",
        "                | Val Loss: {valLoss / len(valDataLoader.dataset): .3f} \\\n",
        "                | Val Accuracy: {valAcc / len(valDataLoader.dataset): .3f}')\n",
        "            \n",
        "            trainAccuracy_list.append(trainAcc / len(trainDataLoader.dataset))\n",
        "            trainLoss_list.append(trainLoss / len(trainDataLoader.dataset))\n",
        "            valAccuracy_list.append(valAcc / len(valDataLoader.dataset))\n",
        "            valLoss_list.append(valLoss / len(valDataLoader.dataset))\n",
        "            \n",
        "            if valAccuracy_list[epoch] >= valAccuracy_list[best] :\n",
        "              best = epoch\n",
        "              torch.save(model,'/content/drive/MyDrive/AI/modelW'+str(lr)+'.pt')\n",
        "            if epoch-2 > best:\n",
        "              break\n",
        "            np.save('/content/drive/MyDrive/AI/bestW'+str(lr),best)\n",
        "            np.save('/content/drive/MyDrive/AI/trainAccuracy_listW'+str(lr),trainAccuracy_list)\n",
        "            np.save('/content/drive/MyDrive/AI/trainLoss_listW'+str(lr),trainLoss_list)\n",
        "            np.save('/content/drive/MyDrive/AI/valAccuracy_listW'+str(lr),valAccuracy_list)\n",
        "            np.save('/content/drive/MyDrive/AI/valLoss_listW'+str(lr),valLoss_list)"
      ]
    },
    {
      "cell_type": "code",
      "execution_count": null,
      "metadata": {
        "id": "FiHE7AdtzGRP"
      },
      "outputs": [],
      "source": [
        "from sklearn.metrics import ConfusionMatrixDisplay\n",
        "import matplotlib.pyplot as plt\n",
        "\n",
        "def evaluate(model,test_dataloader,testLabels):\n",
        "  use_cuda = torch.cuda.is_available()\n",
        "  device = torch.device(\"cuda\" if use_cuda else \"cpu\")\n",
        "  if use_cuda:\n",
        "\n",
        "    model = model.cuda()\n",
        "\n",
        "    tp, tn, fp, fn = 0,0,0,0\n",
        "    with torch.no_grad():\n",
        "        for test_input, test_label in test_dataloader:\n",
        "            test_label = test_label.to(device)\n",
        "            mask = test_input['attention_mask'].to(device)\n",
        "            input_id = test_input['input_ids'].squeeze(1).to(device)\n",
        "            output = model(input_id, mask)\n",
        "            output = torch.round(output) \n",
        "            for i in range(0,len(output)) :\n",
        "                if(output[i] == test_label[i]) :\n",
        "                    if (output[i] == 1) : \n",
        "                        tp += 1\n",
        "                    else:\n",
        "                        tn += 1\n",
        "                else:\n",
        "                    if (output[i] == 1) : \n",
        "                        fp += 1\n",
        "                    else:\n",
        "                        fn += 1\n",
        "    conf = np.array([[tp,fp],[fn,tn]])\n",
        "    lab = [0,1]\n",
        "    disp = ConfusionMatrixDisplay(confusion_matrix=conf,display_labels=lab)\n",
        "    disp = disp.plot()\n",
        "    plt.show()\n",
        "    print(\"Confusion Matrix :-\")\n",
        "    print(f\"{tp}   {fp}\")\n",
        "    print(f\"{fn}   {tn}\")\n",
        "    precision, recall = (tp)/(tp+fp), (tp)/(tp+fn)\n",
        "    print(f\"Accuracy is: {(tp+tn)/(tp+tn+fp+fn):.3f}\")\n",
        "    print(f\"Specificity is: {(tn)/(tn+fp):.3f} \")\n",
        "    print(f\"Precision is: {precision:.3f}\")\n",
        "    print(f\"Recall is: {recall :.3f}\")\n",
        "    print(f\"F1 score is: {2 * (precision * recall) / (precision + recall):.3f}\")"
      ]
    },
    {
      "cell_type": "code",
      "execution_count": null,
      "metadata": {
        "id": "fQQGYvfNltlq"
      },
      "outputs": [],
      "source": [
        "def plotting(lr):\n",
        "  trainAccuracy1=np.load('/content/drive/MyDrive/AI/trainAccuracy_list'+str(lr)+'.npy')\n",
        "  trainLoss1=np.load('/content/drive/MyDrive/AI/trainLoss_list'+str(lr)+'.npy')\n",
        "  valAccuracy1=np.load('/content/drive/MyDrive/AI/valAccuracy_list'+str(lr)+'.npy')\n",
        "  valLoss1=np.load('/content/drive/MyDrive/AI/valLoss_list'+str(lr)+'.npy')\n",
        "  xx=[1,2,3,4,5]\n",
        "  fig, (ax1, ax2) = plt.subplots(1, 2,figsize=(10,10))\n",
        "  fig.suptitle('Model '+str(lr)+' plot')\n",
        "  ax1.plot(xx, valLoss1,'g',xx,trainLoss1,'orange')\n",
        "  ax2.plot(xx,valAccuracy1,'r',xx,trainAccuracy1,'black')\n",
        "\n",
        "  l=[]\n",
        "  l.append(\"validation loss\")\n",
        "  l.append(\"training loss\")\n",
        "  ax1.legend(l)\n",
        "\n",
        "  ll=[]\n",
        "  ll.append(\"validation accuracy\")\n",
        "  ll.append(\"training accuracy\")\n",
        "  ax2.legend(ll)\n",
        "\n",
        "def plottingW(lr):\n",
        "  trainAccuracy1=np.load('/content/drive/MyDrive/AI/trainAccuracy_listW'+str(lr)+'.npy')\n",
        "  trainLoss1=np.load('/content/drive/MyDrive/AI/trainLoss_listW'+str(lr)+'.npy')\n",
        "  valAccuracy1=np.load('/content/drive/MyDrive/AI/valAccuracy_listW'+str(lr)+'.npy')\n",
        "  valLoss1=np.load('/content/drive/MyDrive/AI/valLoss_listW'+str(lr)+'.npy')\n",
        "  xx=[1,2,3,4,5]\n",
        "  fig, (ax1, ax2) = plt.subplots(1, 2,figsize=(10,10))\n",
        "  fig.suptitle('Model '+str(lr)+' without pre-proccessing plot')\n",
        "  ax1.plot(xx, valLoss1,'g',xx,trainLoss1,'orange')\n",
        "  ax2.plot(xx,valAccuracy1,'r',xx,trainAccuracy1,'black')\n",
        "\n",
        "  l=[]\n",
        "  l.append(\"validation loss\")\n",
        "  l.append(\"training loss\")\n",
        "  ax1.legend(l)\n",
        "\n",
        "  ll=[]\n",
        "  ll.append(\"validation accuracy\")\n",
        "  ll.append(\"training accuracy\")\n",
        "  ax2.legend(ll)"
      ]
    },
    {
      "cell_type": "markdown",
      "metadata": {
        "id": "o2jDeFsAmhi3"
      },
      "source": [
        "# **Data Without Preproccessing**"
      ]
    },
    {
      "cell_type": "code",
      "execution_count": null,
      "metadata": {
        "id": "AcVnDLf5Mz9h"
      },
      "outputs": [],
      "source": [
        "batchSize = 16\n",
        "trainData, valData = Dataset( trainW, trainLabelsW), Dataset( valW, valLabelsW)\n",
        "\n",
        "train_dataloader = torch.utils.data.DataLoader(trainData, batch_size=batchSize, shuffle=True)\n",
        "val_dataloader = torch.utils.data.DataLoader(valData, batch_size=batchSize)"
      ]
    },
    {
      "cell_type": "code",
      "execution_count": null,
      "metadata": {
        "id": "f39jmmLvzsQb"
      },
      "outputs": [],
      "source": [
        "testData = Dataset(testW,testLabelsW)\n",
        "test_dataloader = torch.utils.data.DataLoader(testData, batch_size=batchSize)"
      ]
    },
    {
      "cell_type": "markdown",
      "metadata": {
        "id": "9aj_eid-mrTg"
      },
      "source": [
        "# **Data With Preproccessing**"
      ]
    },
    {
      "cell_type": "code",
      "execution_count": null,
      "metadata": {
        "id": "Dli-IKUfTfta"
      },
      "outputs": [],
      "source": [
        "batchSize = 16\n",
        "trainDataPre, valDataPre = Dataset( train, trainLabels), Dataset( val, valLabels)\n",
        "train_dataloaderPre = torch.utils.data.DataLoader(trainDataPre, batch_size=batchSize, shuffle=True)\n",
        "val_dataloaderPre = torch.utils.data.DataLoader(valDataPre, batch_size=batchSize)\n",
        "testDataPre = Dataset(test,testLabels)\n",
        "test_dataloaderPre = torch.utils.data.DataLoader(testDataPre, batch_size=batchSize)"
      ]
    },
    {
      "cell_type": "markdown",
      "metadata": {
        "id": "D9XCpj3onV-U"
      },
      "source": [
        "# **Training Models with different Learning Rates**"
      ]
    },
    {
      "cell_type": "code",
      "execution_count": null,
      "metadata": {
        "id": "4ZzjGVT1WqPn"
      },
      "outputs": [],
      "source": [
        "lrate = [1e-4,1e-5,1e-6]"
      ]
    },
    {
      "cell_type": "code",
      "execution_count": null,
      "metadata": {
        "id": "HJRPhztuD-Pq"
      },
      "outputs": [],
      "source": [
        "import gc\n",
        "for _ in range(0,100):\n",
        "    gc.collect()\n",
        "    torch.cuda.empty_cache()"
      ]
    },
    {
      "cell_type": "code",
      "execution_count": null,
      "metadata": {
        "colab": {
          "base_uri": "https://localhost:8080/",
          "height": 260,
          "referenced_widgets": [
            "187b7507ad814a5c94164aa1c8ee1705",
            "4f030b4a769e43e59af77ae56d173243",
            "41df5f562f8b49d78a57ba4972ff8cd3",
            "b21c10790b774c43884e50258b4c7010",
            "f5105acf6cc841c0a090a760070b4d57",
            "f15059883e5b46a5804a2ed562d6d82e",
            "bca886bcb5bb4adeb2d6788ec0dcdfc1",
            "64860b5225ee44b9bd210003e41acb32",
            "0a1dc85a3960440c8d7cb29f5d296843",
            "70314fbfe7374aa78090efe1aaea8c03",
            "f69943c77fdb46e0bc0f1be12715c610"
          ]
        },
        "id": "s82-o0Tx7Gvg",
        "outputId": "a2339e92-0b68-4584-93b9-071cd7931c74"
      },
      "outputs": [
        {
          "data": {
            "application/vnd.jupyter.widget-view+json": {
              "model_id": "187b7507ad814a5c94164aa1c8ee1705",
              "version_major": 2,
              "version_minor": 0
            },
            "text/plain": [
              "Downloading:   0%|          | 0.00/416M [00:00<?, ?B/s]"
            ]
          },
          "metadata": {},
          "output_type": "display_data"
        },
        {
          "metadata": {
            "tags": null
          },
          "name": "stderr",
          "output_type": "stream",
          "text": [
            "Some weights of the model checkpoint at bert-base-cased were not used when initializing BertModel: ['cls.seq_relationship.bias', 'cls.seq_relationship.weight', 'cls.predictions.transform.LayerNorm.weight', 'cls.predictions.transform.dense.bias', 'cls.predictions.bias', 'cls.predictions.transform.dense.weight', 'cls.predictions.transform.LayerNorm.bias', 'cls.predictions.decoder.weight']\n",
            "- This IS expected if you are initializing BertModel from the checkpoint of a model trained on another task or with another architecture (e.g. initializing a BertForSequenceClassification model from a BertForPreTraining model).\n",
            "- This IS NOT expected if you are initializing BertModel from the checkpoint of a model that you expect to be exactly identical (initializing a BertForSequenceClassification model from a BertForSequenceClassification model).\n"
          ]
        },
        {
          "metadata": {
            "tags": null
          },
          "name": "stdout",
          "output_type": "stream",
          "text": [
            "Running on Cuda GPU\n"
          ]
        },
        {
          "metadata": {
            "tags": null
          },
          "name": "stderr",
          "output_type": "stream",
          "text": [
            "100%|██████████| 2188/2188 [51:47<00:00,  1.42s/it]\n"
          ]
        },
        {
          "metadata": {
            "tags": null
          },
          "name": "stdout",
          "output_type": "stream",
          "text": [
            "Epochs: 1 | Train Loss:  0.043                 | Train Accuracy:  0.500                 | Val Loss:  0.043                 | Val Accuracy:  0.500\n"
          ]
        },
        {
          "metadata": {
            "tags": null
          },
          "name": "stderr",
          "output_type": "stream",
          "text": [
            "100%|██████████| 2188/2188 [51:49<00:00,  1.42s/it]\n"
          ]
        },
        {
          "metadata": {
            "tags": null
          },
          "name": "stdout",
          "output_type": "stream",
          "text": [
            "Epochs: 2 | Train Loss:  0.043                 | Train Accuracy:  0.500                 | Val Loss:  0.043                 | Val Accuracy:  0.500\n"
          ]
        },
        {
          "metadata": {
            "tags": null
          },
          "name": "stderr",
          "output_type": "stream",
          "text": [
            "100%|██████████| 2188/2188 [51:50<00:00,  1.42s/it]\n"
          ]
        },
        {
          "metadata": {
            "tags": null
          },
          "name": "stdout",
          "output_type": "stream",
          "text": [
            "Epochs: 3 | Train Loss:  0.043                 | Train Accuracy:  0.500                 | Val Loss:  0.043                 | Val Accuracy:  0.500\n"
          ]
        },
        {
          "output_type": "stream",
          "name": "stderr",
          "text": [
            "100%|██████████| 2188/2188 [51:49<00:00,  1.42s/it]\n"
          ]
        }
      ],
      "source": [
        "lr = 1e-4\n",
        "torch.cuda.empty_cache()\n",
        "model = BertClassifier()\n",
        "train_Model(model,train_dataloaderPre,val_dataloaderPre,trainLabels,valLabels,lr,epochs=5)"
      ]
    },
    {
      "cell_type": "code",
      "execution_count": null,
      "metadata": {
        "id": "k-3H2jgjsfj9"
      },
      "outputs": [],
      "source": [
        "lr = 1e-4\n",
        "torch.cuda.empty_cache()\n",
        "model = BertClassifier()\n",
        "train_ModelW(model,train_dataloader,val_dataloader,trainLabelsW,valLabelsW,lr,epochs=5)"
      ]
    },
    {
      "cell_type": "markdown",
      "metadata": {
        "id": "96V9PWXwm0w7"
      },
      "source": [
        "# **Tuning Models with pre-proccessing**"
      ]
    },
    {
      "cell_type": "code",
      "execution_count": null,
      "metadata": {
        "colab": {
          "base_uri": "https://localhost:8080/",
          "height": 680
        },
        "id": "FeJCyZmalpG9",
        "outputId": "63078c4d-063e-4481-b5bc-96282990da9a"
      },
      "outputs": [
        {
          "name": "stdout",
          "output_type": "stream",
          "text": [
            "Best Epoch Number :  3\n"
          ]
        },
        {
          "data": {
            "image/png": "[encoded data removed]",
            "text/plain": [
              "<Figure size 720x720 with 2 Axes>"
            ]
          },
          "metadata": {},
          "output_type": "display_data"
        }
      ],
      "source": [
        "best1=np.load('/content/drive/MyDrive/AI/best1e-06.npy')\n",
        "print(\"Best Epoch Number : \",best1+1)\n",
        "plotting(1e-06)"
      ]
    },
    {
      "cell_type": "code",
      "execution_count": null,
      "metadata": {
        "colab": {
          "base_uri": "https://localhost:8080/",
          "height": 680
        },
        "id": "Z3Uz0SNmrLfA",
        "outputId": "9e227e9e-a25e-4ce7-de92-50bde90d3d2d"
      },
      "outputs": [
        {
          "name": "stdout",
          "output_type": "stream",
          "text": [
            "Best Epoch Number :  2\n"
          ]
        },
        {
          "data": {
            "image/png": "[encoded data removed]",
            "text/plain": [
              "<Figure size 720x720 with 2 Axes>"
            ]
          },
          "metadata": {},
          "output_type": "display_data"
        }
      ],
      "source": [
        "best2=np.load('/content/drive/MyDrive/AI/best1e-05.npy')\n",
        "print(\"Best Epoch Number : \",best2+1)\n",
        "plotting(1e-05)"
      ]
    },
    {
      "cell_type": "code",
      "execution_count": null,
      "metadata": {
        "id": "vPDQp2uls4uR",
        "colab": {
          "base_uri": "https://localhost:8080/",
          "height": 680
        },
        "outputId": "aae31732-cae3-4bfb-8e28-6e95a4b6c393"
      },
      "outputs": [
        {
          "output_type": "stream",
          "name": "stdout",
          "text": [
            "Best Epoch Number :  5\n"
          ]
        },
        {
          "output_type": "display_data",
          "data": {
            "text/plain": [
              "<Figure size 720x720 with 2 Axes>"
            ],
            "image/png": "[encoded data removed]"
          },
          "metadata": {
            "needs_background": "light"
          }
        }
      ],
      "source": [
        "best3=np.load('/content/drive/MyDrive/AI/best0.0001.npy')\n",
        "print(\"Best Epoch Number : \",best3+1)\n",
        "plotting(0.0001)"
      ]
    },
    {
      "cell_type": "code",
      "execution_count": null,
      "metadata": {
        "id": "VJn4F9nUto71"
      },
      "outputs": [],
      "source": [
        "def plotAcc():\n",
        "  valAccuracy1=np.load('/content/drive/MyDrive/AI/valAccuracy_list1e-06.npy')\n",
        "  valAccuracy2=np.load('/content/drive/MyDrive/AI/valAccuracy_list1e-05.npy')\n",
        "  valAccuracy3=np.load('/content/drive/MyDrive/AI/valAccuracy_list0.0001.npy')\n",
        "  xx=[1,2,3,4,5]\n",
        "  plt.title('Validation Accuracies between different learning rates')\n",
        "  plt.plot(xx, valAccuracy1,'g',xx,valAccuracy2,'orange',xx,valAccuracy3,'black')\n",
        "  l=[]\n",
        "  l.append(\"1e-06 learning rate\")\n",
        "  l.append(\"1e-05 learning rate\")\n",
        "  l.append(\"1e-04 learning rate\")\n",
        "  plt.legend(l)\n",
        "  plt.show()"
      ]
    },
    {
      "cell_type": "code",
      "execution_count": null,
      "metadata": {
        "id": "IDRXHKzrwsVY"
      },
      "outputs": [],
      "source": [
        "plotAcc()"
      ]
    },
    {
      "cell_type": "code",
      "execution_count": null,
      "metadata": {
        "colab": {
          "base_uri": "https://localhost:8080/",
          "height": 435
        },
        "id": "ESab-66Cw0vN",
        "outputId": "781f5dd5-946e-4db5-868f-13e101979ed3"
      },
      "outputs": [
        {
          "name": "stdout",
          "output_type": "stream",
          "text": [
            "The Best Model is with learning rate 1e-05 with validation accuracy 0.878\n"
          ]
        },
        {
          "data": {
            "image/png": "[encoded data removed]",
            "text/plain": [
              "<Figure size 432x288 with 2 Axes>"
            ]
          },
          "metadata": {},
          "output_type": "display_data"
        },
        {
          "name": "stdout",
          "output_type": "stream",
          "text": [
            "Confusion Matrix :-\n",
            "4079   409\n",
            "921   4591\n",
            "Accuracy is: 0.867\n",
            "Specificity is: 0.918 \n",
            "Precision is: 0.909\n",
            "Recall is: 0.816\n",
            "F1 score is: 0.860\n"
          ]
        }
      ],
      "source": [
        "print(\"The Best Model is with learning rate 1e-05 with validation accuracy 0.878\")\n",
        "Model=torch.load('/content/drive/MyDrive/AI/model1e-05.pt')\n",
        "evaluate(Model,test_dataloaderPre,testLabels)"
      ]
    },
    {
      "cell_type": "markdown",
      "metadata": {
        "id": "lKdkmQ2xzXJb"
      },
      "source": [
        "# **Tuning Models without pre-proccessing**"
      ]
    },
    {
      "cell_type": "code",
      "execution_count": null,
      "metadata": {
        "id": "NOJwLeKEzXfy",
        "colab": {
          "base_uri": "https://localhost:8080/",
          "height": 680
        },
        "outputId": "2900e954-e000-4304-8933-7f593225fa22"
      },
      "outputs": [
        {
          "output_type": "stream",
          "name": "stdout",
          "text": [
            "Best Epoch Number :  4\n"
          ]
        },
        {
          "output_type": "display_data",
          "data": {
            "text/plain": [
              "<Figure size 720x720 with 2 Axes>"
            ],
            "image/png": "[encoded data removed]"
          },
          "metadata": {
            "needs_background": "light"
          }
        }
      ],
      "source": [
        "best1=np.load('/content/drive/MyDrive/AI/bestW1e-06.npy')\n",
        "print(\"Best Epoch Number : \",best1+1)\n",
        "plottingW(1e-06)"
      ]
    },
    {
      "cell_type": "code",
      "execution_count": null,
      "metadata": {
        "id": "RVfKSPVVzaix",
        "colab": {
          "base_uri": "https://localhost:8080/",
          "height": 680
        },
        "outputId": "f52ff31a-72cd-4051-adb3-2e6f6b539e7f"
      },
      "outputs": [
        {
          "output_type": "stream",
          "name": "stdout",
          "text": [
            "Best Epoch Number :  5\n"
          ]
        },
        {
          "output_type": "display_data",
          "data": {
            "text/plain": [
              "<Figure size 720x720 with 2 Axes>"
            ],
            "image/png": "[encoded data removed]"
          },
          "metadata": {
            "needs_background": "light"
          }
        }
      ],
      "source": [
        "best2=np.load('/content/drive/MyDrive/AI/bestW1e-05.npy')\n",
        "print(\"Best Epoch Number : \",best2+1)\n",
        "plottingW(1e-05)"
      ]
    },
    {
      "cell_type": "code",
      "source": [
        "a = np.load(\"/content/drive/MyDrive/AI/best1e-04.npy\")"
      ],
      "metadata": {
        "id": "U0-7mJ2_86g6"
      },
      "execution_count": null,
      "outputs": []
    },
    {
      "cell_type": "code",
      "execution_count": null,
      "metadata": {
        "id": "dw-bUiwUzjuZ"
      },
      "outputs": [],
      "source": [
        "best3=np.load('/content/drive/MyDrive/AI/bestW0.0001.npy')\n",
        "print(\"Best Epoch Number : \",best3+1)\n",
        "plottingW(1e-04)"
      ]
    },
    {
      "cell_type": "code",
      "execution_count": null,
      "metadata": {
        "id": "ENwqPQkez1W9"
      },
      "outputs": [],
      "source": [
        "def plotAccW():\n",
        "  valAccuracy1=np.load('/content/drive/MyDrive/AI/valAccuracy_listW1e-06.npy')\n",
        "  valAccuracy2=np.load('/content/drive/MyDrive/AI/valAccuracy_listW1e-05.npy')\n",
        "  valAccuracy3=np.load('/content/drive/MyDrive/AI/valAccuracy_listW1e-04.npy')\n",
        "  xx=[1,2,3,4,5]\n",
        "  plt.title('Validation Accuracies between different learning rates')\n",
        "  plt.plot(xx, valAccuracy1,'g',xx,valAccuracy2,'orange',xx,valAccuracy3,'black')\n",
        "  l=[]\n",
        "  l.append(\"1e-06 learning rate\")\n",
        "  l.append(\"1e-05 learning rate\")\n",
        "  l.append(\"1e-04 learning rate\")\n",
        "  plt.legend(l)\n",
        "  plt.show()"
      ]
    },
    {
      "cell_type": "code",
      "execution_count": null,
      "metadata": {
        "id": "sRQIjwROz_e0",
        "colab": {
          "base_uri": "https://localhost:8080/",
          "height": 281
        },
        "outputId": "dd781364-842d-4efe-821b-6adb15e31514"
      },
      "outputs": [
        {
          "output_type": "display_data",
          "data": {
            "text/plain": [
              "<Figure size 432x288 with 1 Axes>"
            ],
            "image/png": "[encoded data removed]"
          },
          "metadata": {
            "needs_background": "light"
          }
        }
      ],
      "source": [
        "plotAccW()"
      ]
    },
    {
      "cell_type": "code",
      "execution_count": null,
      "metadata": {
        "id": "PPLC1b9q0B-_",
        "colab": {
          "base_uri": "https://localhost:8080/",
          "height": 435
        },
        "outputId": "da1b7915-f6a8-4cb6-f6cb-872685e8fd35"
      },
      "outputs": [
        {
          "output_type": "stream",
          "name": "stdout",
          "text": [
            "The Best Model without pre-proccessing is with learning rate 1e-05 with validation accuracy 0.926\n"
          ]
        },
        {
          "output_type": "display_data",
          "data": {
            "text/plain": [
              "<Figure size 432x288 with 2 Axes>"
            ],
            "image/png": "[encoded data removed]"
          },
          "metadata": {
            "needs_background": "light"
          }
        },
        {
          "output_type": "stream",
          "name": "stdout",
          "text": [
            "Confusion Matrix :-\n",
            "4591   363\n",
            "409   4637\n",
            "Accuracy is: 0.923\n",
            "Specificity is: 0.927 \n",
            "Precision is: 0.927\n",
            "Recall is: 0.918\n",
            "F1 score is: 0.922\n"
          ]
        }
      ],
      "source": [
        "print(\"The Best Model without pre-proccessing is with learning rate 1e-05 with validation accuracy 0.926\")\n",
        "Model=torch.load('/content/drive/MyDrive/AI/modelW1e-05.pt')\n",
        "evaluate(Model,test_dataloader,testLabelsW)"
      ]
    },
    {
      "cell_type": "code",
      "source": [
        "valAccuracy1=list(np.load('/content/drive/MyDrive/AI/trainAccuracy_listW0.0001.npy'))\n",
        "valAccuracy1.append(0.5)\n",
        "print(valAccuracy1)\n",
        "np.save('/content/drive/MyDrive/AI/trainAccuracy_listW0.0001.npy',valAccuracy1)"
      ],
      "metadata": {
        "colab": {
          "base_uri": "https://localhost:8080/"
        },
        "id": "4tRiFJXGb5yh",
        "outputId": "ca16f736-121d-432b-f102-aac10b57e075"
      },
      "execution_count": null,
      "outputs": [
        {
          "output_type": "stream",
          "name": "stdout",
          "text": [
            "[0.5, 0.5, 0.5, 0.5, 0.5]\n"
          ]
        }
      ]
    },
    {
      "cell_type": "code",
      "source": [
        "valAccuracy1=list(np.load('/content/drive/MyDrive/AI/valAccuracy_listW0.0001.npy'))\n",
        "valAccuracy1.append(0.5)\n",
        "print(valAccuracy1)\n",
        "np.save('/content/drive/MyDrive/AI/valAccuracy_listW0.0001.npy',valAccuracy1)"
      ],
      "metadata": {
        "id": "EChpjgsReF2t"
      },
      "execution_count": null,
      "outputs": []
    },
    {
      "cell_type": "code",
      "source": [
        "valAccuracy1=list(np.load('/content/drive/MyDrive/AI/trainLoss_list0.0001.npy'))\n",
        "valAccuracy1.append(0.0433316019313235)\n",
        "print(valAccuracy1)\n",
        "best =4 \n",
        "np.save('/content/drive/MyDrive/AI/best0.0001.npy',best)\n",
        "np.save('/content/drive/MyDrive/AI/trainLoss_list0.0001.npy',valAccuracy1)"
      ],
      "metadata": {
        "colab": {
          "base_uri": "https://localhost:8080/"
        },
        "id": "VOyH4MemcS1n",
        "outputId": "4b9ea191-ff28-4b8e-f653-442d6044f1bd"
      },
      "execution_count": null,
      "outputs": [
        {
          "output_type": "stream",
          "name": "stdout",
          "text": [
            "[0.0433974124789238, 0.043331753957271575, 0.04333161415883473, 0.0433316019313676, 0.0433316019313235]\n"
          ]
        }
      ]
    },
    {
      "cell_type": "code",
      "source": [
        "valAccuracy1=list(np.load('/content/drive/MyDrive/AI/valLoss_list0.0001.npy'))\n",
        "valAccuracy1.append(0.043390997850024925)\n",
        "print(valAccuracy1)\n",
        "np.save('/content/drive/MyDrive/AI/valLoss_list0.0001.npy',valAccuracy1)"
      ],
      "metadata": {
        "colab": {
          "base_uri": "https://localhost:8080/"
        },
        "id": "4J2GTZC4dbNz",
        "outputId": "df43457f-f2e8-4b64-83ed-f0c8c2598fae"
      },
      "execution_count": null,
      "outputs": [
        {
          "output_type": "stream",
          "name": "stdout",
          "text": [
            "[0.04339102588891983, 0.04339097517728806, 0.043390997850894925, 0.043391015446186065, 0.043390997850024926]\n"
          ]
        }
      ]
    }
  ],
  "metadata": {
    "accelerator": "GPU",
    "colab": {
      "collapsed_sections": [],
      "name": "AI_Assignment#4.ipynb",
      "provenance": [],
      "include_colab_link": true
    },
    "kernelspec": {
      "display_name": "Python 3",
      "name": "python3"
    },
    "language_info": {
      "name": "python"
    },
    "widgets": {
      "application/vnd.jupyter.widget-state+json": {
        "469d21c6c224460bbcd1d794b1c75948": {
          "model_module": "@jupyter-widgets/controls",
          "model_name": "HBoxModel",
          "model_module_version": "1.5.0",
          "state": {
            "_dom_classes": [],
            "_model_module": "@jupyter-widgets/controls",
            "_model_module_version": "1.5.0",
            "_model_name": "HBoxModel",
            "_view_count": null,
            "_view_module": "@jupyter-widgets/controls",
            "_view_module_version": "1.5.0",
            "_view_name": "HBoxView",
            "box_style": "",
            "children": [
              "IPY_MODEL_2b41a0bec507485ea7801a0914dd2db9",
              "IPY_MODEL_059c71f817334b41801873f346c26138",
              "IPY_MODEL_e2a45079b406432d91c7b76f726f0743"
            ],
            "layout": "IPY_MODEL_1f1d16b15fb84724aa5e7e145b2030ff"
          }
        },
        "2b41a0bec507485ea7801a0914dd2db9": {
          "model_module": "@jupyter-widgets/controls",
          "model_name": "HTMLModel",
          "model_module_version": "1.5.0",
          "state": {
            "_dom_classes": [],
            "_model_module": "@jupyter-widgets/controls",
            "_model_module_version": "1.5.0",
            "_model_name": "HTMLModel",
            "_view_count": null,
            "_view_module": "@jupyter-widgets/controls",
            "_view_module_version": "1.5.0",
            "_view_name": "HTMLView",
            "description": "",
            "description_tooltip": null,
            "layout": "IPY_MODEL_9d547df32897402ba822b9d0ed171351",
            "placeholder": "​",
            "style": "IPY_MODEL_6951be479a124caca63b4834efeb3b06",
            "value": "Downloading: 100%"
          }
        },
        "059c71f817334b41801873f346c26138": {
          "model_module": "@jupyter-widgets/controls",
          "model_name": "FloatProgressModel",
          "model_module_version": "1.5.0",
          "state": {
            "_dom_classes": [],
            "_model_module": "@jupyter-widgets/controls",
            "_model_module_version": "1.5.0",
            "_model_name": "FloatProgressModel",
            "_view_count": null,
            "_view_module": "@jupyter-widgets/controls",
            "_view_module_version": "1.5.0",
            "_view_name": "ProgressView",
            "bar_style": "success",
            "description": "",
            "description_tooltip": null,
            "layout": "IPY_MODEL_bc81f82ca182499d9cdbd8d0f90b0aa6",
            "max": 213450,
            "min": 0,
            "orientation": "horizontal",
            "style": "IPY_MODEL_5d5469b547d14c8d8f7aeca2571c3241",
            "value": 213450
          }
        },
        "e2a45079b406432d91c7b76f726f0743": {
          "model_module": "@jupyter-widgets/controls",
          "model_name": "HTMLModel",
          "model_module_version": "1.5.0",
          "state": {
            "_dom_classes": [],
            "_model_module": "@jupyter-widgets/controls",
            "_model_module_version": "1.5.0",
            "_model_name": "HTMLModel",
            "_view_count": null,
            "_view_module": "@jupyter-widgets/controls",
            "_view_module_version": "1.5.0",
            "_view_name": "HTMLView",
            "description": "",
            "description_tooltip": null,
            "layout": "IPY_MODEL_82c5d9d0b42b4503b049b12fa0e31144",
            "placeholder": "​",
            "style": "IPY_MODEL_add169c7eb6f4701ae0bd238b92c0d6d",
            "value": " 208k/208k [00:00&lt;00:00, 4.90MB/s]"
          }
        },
        "1f1d16b15fb84724aa5e7e145b2030ff": {
          "model_module": "@jupyter-widgets/base",
          "model_name": "LayoutModel",
          "model_module_version": "1.2.0",
          "state": {
            "_model_module": "@jupyter-widgets/base",
            "_model_module_version": "1.2.0",
            "_model_name": "LayoutModel",
            "_view_count": null,
            "_view_module": "@jupyter-widgets/base",
            "_view_module_version": "1.2.0",
            "_view_name": "LayoutView",
            "align_content": null,
            "align_items": null,
            "align_self": null,
            "border": null,
            "bottom": null,
            "display": null,
            "flex": null,
            "flex_flow": null,
            "grid_area": null,
            "grid_auto_columns": null,
            "grid_auto_flow": null,
            "grid_auto_rows": null,
            "grid_column": null,
            "grid_gap": null,
            "grid_row": null,
            "grid_template_areas": null,
            "grid_template_columns": null,
            "grid_template_rows": null,
            "height": null,
            "justify_content": null,
            "justify_items": null,
            "left": null,
            "margin": null,
            "max_height": null,
            "max_width": null,
            "min_height": null,
            "min_width": null,
            "object_fit": null,
            "object_position": null,
            "order": null,
            "overflow": null,
            "overflow_x": null,
            "overflow_y": null,
            "padding": null,
            "right": null,
            "top": null,
            "visibility": null,
            "width": null
          }
        },
        "9d547df32897402ba822b9d0ed171351": {
          "model_module": "@jupyter-widgets/base",
          "model_name": "LayoutModel",
          "model_module_version": "1.2.0",
          "state": {
            "_model_module": "@jupyter-widgets/base",
            "_model_module_version": "1.2.0",
            "_model_name": "LayoutModel",
            "_view_count": null,
            "_view_module": "@jupyter-widgets/base",
            "_view_module_version": "1.2.0",
            "_view_name": "LayoutView",
            "align_content": null,
            "align_items": null,
            "align_self": null,
            "border": null,
            "bottom": null,
            "display": null,
            "flex": null,
            "flex_flow": null,
            "grid_area": null,
            "grid_auto_columns": null,
            "grid_auto_flow": null,
            "grid_auto_rows": null,
            "grid_column": null,
            "grid_gap": null,
            "grid_row": null,
            "grid_template_areas": null,
            "grid_template_columns": null,
            "grid_template_rows": null,
            "height": null,
            "justify_content": null,
            "justify_items": null,
            "left": null,
            "margin": null,
            "max_height": null,
            "max_width": null,
            "min_height": null,
            "min_width": null,
            "object_fit": null,
            "object_position": null,
            "order": null,
            "overflow": null,
            "overflow_x": null,
            "overflow_y": null,
            "padding": null,
            "right": null,
            "top": null,
            "visibility": null,
            "width": null
          }
        },
        "6951be479a124caca63b4834efeb3b06": {
          "model_module": "@jupyter-widgets/controls",
          "model_name": "DescriptionStyleModel",
          "model_module_version": "1.5.0",
          "state": {
            "_model_module": "@jupyter-widgets/controls",
            "_model_module_version": "1.5.0",
            "_model_name": "DescriptionStyleModel",
            "_view_count": null,
            "_view_module": "@jupyter-widgets/base",
            "_view_module_version": "1.2.0",
            "_view_name": "StyleView",
            "description_width": ""
          }
        },
        "bc81f82ca182499d9cdbd8d0f90b0aa6": {
          "model_module": "@jupyter-widgets/base",
          "model_name": "LayoutModel",
          "model_module_version": "1.2.0",
          "state": {
            "_model_module": "@jupyter-widgets/base",
            "_model_module_version": "1.2.0",
            "_model_name": "LayoutModel",
            "_view_count": null,
            "_view_module": "@jupyter-widgets/base",
            "_view_module_version": "1.2.0",
            "_view_name": "LayoutView",
            "align_content": null,
            "align_items": null,
            "align_self": null,
            "border": null,
            "bottom": null,
            "display": null,
            "flex": null,
            "flex_flow": null,
            "grid_area": null,
            "grid_auto_columns": null,
            "grid_auto_flow": null,
            "grid_auto_rows": null,
            "grid_column": null,
            "grid_gap": null,
            "grid_row": null,
            "grid_template_areas": null,
            "grid_template_columns": null,
            "grid_template_rows": null,
            "height": null,
            "justify_content": null,
            "justify_items": null,
            "left": null,
            "margin": null,
            "max_height": null,
            "max_width": null,
            "min_height": null,
            "min_width": null,
            "object_fit": null,
            "object_position": null,
            "order": null,
            "overflow": null,
            "overflow_x": null,
            "overflow_y": null,
            "padding": null,
            "right": null,
            "top": null,
            "visibility": null,
            "width": null
          }
        },
        "5d5469b547d14c8d8f7aeca2571c3241": {
          "model_module": "@jupyter-widgets/controls",
          "model_name": "ProgressStyleModel",
          "model_module_version": "1.5.0",
          "state": {
            "_model_module": "@jupyter-widgets/controls",
            "_model_module_version": "1.5.0",
            "_model_name": "ProgressStyleModel",
            "_view_count": null,
            "_view_module": "@jupyter-widgets/base",
            "_view_module_version": "1.2.0",
            "_view_name": "StyleView",
            "bar_color": null,
            "description_width": ""
          }
        },
        "82c5d9d0b42b4503b049b12fa0e31144": {
          "model_module": "@jupyter-widgets/base",
          "model_name": "LayoutModel",
          "model_module_version": "1.2.0",
          "state": {
            "_model_module": "@jupyter-widgets/base",
            "_model_module_version": "1.2.0",
            "_model_name": "LayoutModel",
            "_view_count": null,
            "_view_module": "@jupyter-widgets/base",
            "_view_module_version": "1.2.0",
            "_view_name": "LayoutView",
            "align_content": null,
            "align_items": null,
            "align_self": null,
            "border": null,
            "bottom": null,
            "display": null,
            "flex": null,
            "flex_flow": null,
            "grid_area": null,
            "grid_auto_columns": null,
            "grid_auto_flow": null,
            "grid_auto_rows": null,
            "grid_column": null,
            "grid_gap": null,
            "grid_row": null,
            "grid_template_areas": null,
            "grid_template_columns": null,
            "grid_template_rows": null,
            "height": null,
            "justify_content": null,
            "justify_items": null,
            "left": null,
            "margin": null,
            "max_height": null,
            "max_width": null,
            "min_height": null,
            "min_width": null,
            "object_fit": null,
            "object_position": null,
            "order": null,
            "overflow": null,
            "overflow_x": null,
            "overflow_y": null,
            "padding": null,
            "right": null,
            "top": null,
            "visibility": null,
            "width": null
          }
        },
        "add169c7eb6f4701ae0bd238b92c0d6d": {
          "model_module": "@jupyter-widgets/controls",
          "model_name": "DescriptionStyleModel",
          "model_module_version": "1.5.0",
          "state": {
            "_model_module": "@jupyter-widgets/controls",
            "_model_module_version": "1.5.0",
            "_model_name": "DescriptionStyleModel",
            "_view_count": null,
            "_view_module": "@jupyter-widgets/base",
            "_view_module_version": "1.2.0",
            "_view_name": "StyleView",
            "description_width": ""
          }
        },
        "35057aced62149298a142657e6dad31d": {
          "model_module": "@jupyter-widgets/controls",
          "model_name": "HBoxModel",
          "model_module_version": "1.5.0",
          "state": {
            "_dom_classes": [],
            "_model_module": "@jupyter-widgets/controls",
            "_model_module_version": "1.5.0",
            "_model_name": "HBoxModel",
            "_view_count": null,
            "_view_module": "@jupyter-widgets/controls",
            "_view_module_version": "1.5.0",
            "_view_name": "HBoxView",
            "box_style": "",
            "children": [
              "IPY_MODEL_3407a32958784916ba31888bac4b9b32",
              "IPY_MODEL_3d0be4236fb843518c1839cf5315b1df",
              "IPY_MODEL_d0b29b28e6f549d79f1ca5b12e027cd3"
            ],
            "layout": "IPY_MODEL_ced06462788a45d2a85efdd41fc95066"
          }
        },
        "3407a32958784916ba31888bac4b9b32": {
          "model_module": "@jupyter-widgets/controls",
          "model_name": "HTMLModel",
          "model_module_version": "1.5.0",
          "state": {
            "_dom_classes": [],
            "_model_module": "@jupyter-widgets/controls",
            "_model_module_version": "1.5.0",
            "_model_name": "HTMLModel",
            "_view_count": null,
            "_view_module": "@jupyter-widgets/controls",
            "_view_module_version": "1.5.0",
            "_view_name": "HTMLView",
            "description": "",
            "description_tooltip": null,
            "layout": "IPY_MODEL_5cc52f6b2ad940eea722f1158849f5d7",
            "placeholder": "​",
            "style": "IPY_MODEL_c027b90a25d94bf4aaa105af53bcc0ff",
            "value": "Downloading: 100%"
          }
        },
        "3d0be4236fb843518c1839cf5315b1df": {
          "model_module": "@jupyter-widgets/controls",
          "model_name": "FloatProgressModel",
          "model_module_version": "1.5.0",
          "state": {
            "_dom_classes": [],
            "_model_module": "@jupyter-widgets/controls",
            "_model_module_version": "1.5.0",
            "_model_name": "FloatProgressModel",
            "_view_count": null,
            "_view_module": "@jupyter-widgets/controls",
            "_view_module_version": "1.5.0",
            "_view_name": "ProgressView",
            "bar_style": "success",
            "description": "",
            "description_tooltip": null,
            "layout": "IPY_MODEL_6d8bd5679ce34ac4935af0005c300e34",
            "max": 29,
            "min": 0,
            "orientation": "horizontal",
            "style": "IPY_MODEL_0ec4a22ad1e24c388a74197b9619014e",
            "value": 29
          }
        },
        "d0b29b28e6f549d79f1ca5b12e027cd3": {
          "model_module": "@jupyter-widgets/controls",
          "model_name": "HTMLModel",
          "model_module_version": "1.5.0",
          "state": {
            "_dom_classes": [],
            "_model_module": "@jupyter-widgets/controls",
            "_model_module_version": "1.5.0",
            "_model_name": "HTMLModel",
            "_view_count": null,
            "_view_module": "@jupyter-widgets/controls",
            "_view_module_version": "1.5.0",
            "_view_name": "HTMLView",
            "description": "",
            "description_tooltip": null,
            "layout": "IPY_MODEL_722cddbbe09b4a57a5b8ecbd97bbf01d",
            "placeholder": "​",
            "style": "IPY_MODEL_9a041158171143a39b5a781b15293dc1",
            "value": " 29.0/29.0 [00:00&lt;00:00, 862B/s]"
          }
        },
        "ced06462788a45d2a85efdd41fc95066": {
          "model_module": "@jupyter-widgets/base",
          "model_name": "LayoutModel",
          "model_module_version": "1.2.0",
          "state": {
            "_model_module": "@jupyter-widgets/base",
            "_model_module_version": "1.2.0",
            "_model_name": "LayoutModel",
            "_view_count": null,
            "_view_module": "@jupyter-widgets/base",
            "_view_module_version": "1.2.0",
            "_view_name": "LayoutView",
            "align_content": null,
            "align_items": null,
            "align_self": null,
            "border": null,
            "bottom": null,
            "display": null,
            "flex": null,
            "flex_flow": null,
            "grid_area": null,
            "grid_auto_columns": null,
            "grid_auto_flow": null,
            "grid_auto_rows": null,
            "grid_column": null,
            "grid_gap": null,
            "grid_row": null,
            "grid_template_areas": null,
            "grid_template_columns": null,
            "grid_template_rows": null,
            "height": null,
            "justify_content": null,
            "justify_items": null,
            "left": null,
            "margin": null,
            "max_height": null,
            "max_width": null,
            "min_height": null,
            "min_width": null,
            "object_fit": null,
            "object_position": null,
            "order": null,
            "overflow": null,
            "overflow_x": null,
            "overflow_y": null,
            "padding": null,
            "right": null,
            "top": null,
            "visibility": null,
            "width": null
          }
        },
        "5cc52f6b2ad940eea722f1158849f5d7": {
          "model_module": "@jupyter-widgets/base",
          "model_name": "LayoutModel",
          "model_module_version": "1.2.0",
          "state": {
            "_model_module": "@jupyter-widgets/base",
            "_model_module_version": "1.2.0",
            "_model_name": "LayoutModel",
            "_view_count": null,
            "_view_module": "@jupyter-widgets/base",
            "_view_module_version": "1.2.0",
            "_view_name": "LayoutView",
            "align_content": null,
            "align_items": null,
            "align_self": null,
            "border": null,
            "bottom": null,
            "display": null,
            "flex": null,
            "flex_flow": null,
            "grid_area": null,
            "grid_auto_columns": null,
            "grid_auto_flow": null,
            "grid_auto_rows": null,
            "grid_column": null,
            "grid_gap": null,
            "grid_row": null,
            "grid_template_areas": null,
            "grid_template_columns": null,
            "grid_template_rows": null,
            "height": null,
            "justify_content": null,
            "justify_items": null,
            "left": null,
            "margin": null,
            "max_height": null,
            "max_width": null,
            "min_height": null,
            "min_width": null,
            "object_fit": null,
            "object_position": null,
            "order": null,
            "overflow": null,
            "overflow_x": null,
            "overflow_y": null,
            "padding": null,
            "right": null,
            "top": null,
            "visibility": null,
            "width": null
          }
        },
        "c027b90a25d94bf4aaa105af53bcc0ff": {
          "model_module": "@jupyter-widgets/controls",
          "model_name": "DescriptionStyleModel",
          "model_module_version": "1.5.0",
          "state": {
            "_model_module": "@jupyter-widgets/controls",
            "_model_module_version": "1.5.0",
            "_model_name": "DescriptionStyleModel",
            "_view_count": null,
            "_view_module": "@jupyter-widgets/base",
            "_view_module_version": "1.2.0",
            "_view_name": "StyleView",
            "description_width": ""
          }
        },
        "6d8bd5679ce34ac4935af0005c300e34": {
          "model_module": "@jupyter-widgets/base",
          "model_name": "LayoutModel",
          "model_module_version": "1.2.0",
          "state": {
            "_model_module": "@jupyter-widgets/base",
            "_model_module_version": "1.2.0",
            "_model_name": "LayoutModel",
            "_view_count": null,
            "_view_module": "@jupyter-widgets/base",
            "_view_module_version": "1.2.0",
            "_view_name": "LayoutView",
            "align_content": null,
            "align_items": null,
            "align_self": null,
            "border": null,
            "bottom": null,
            "display": null,
            "flex": null,
            "flex_flow": null,
            "grid_area": null,
            "grid_auto_columns": null,
            "grid_auto_flow": null,
            "grid_auto_rows": null,
            "grid_column": null,
            "grid_gap": null,
            "grid_row": null,
            "grid_template_areas": null,
            "grid_template_columns": null,
            "grid_template_rows": null,
            "height": null,
            "justify_content": null,
            "justify_items": null,
            "left": null,
            "margin": null,
            "max_height": null,
            "max_width": null,
            "min_height": null,
            "min_width": null,
            "object_fit": null,
            "object_position": null,
            "order": null,
            "overflow": null,
            "overflow_x": null,
            "overflow_y": null,
            "padding": null,
            "right": null,
            "top": null,
            "visibility": null,
            "width": null
          }
        },
        "0ec4a22ad1e24c388a74197b9619014e": {
          "model_module": "@jupyter-widgets/controls",
          "model_name": "ProgressStyleModel",
          "model_module_version": "1.5.0",
          "state": {
            "_model_module": "@jupyter-widgets/controls",
            "_model_module_version": "1.5.0",
            "_model_name": "ProgressStyleModel",
            "_view_count": null,
            "_view_module": "@jupyter-widgets/base",
            "_view_module_version": "1.2.0",
            "_view_name": "StyleView",
            "bar_color": null,
            "description_width": ""
          }
        },
        "722cddbbe09b4a57a5b8ecbd97bbf01d": {
          "model_module": "@jupyter-widgets/base",
          "model_name": "LayoutModel",
          "model_module_version": "1.2.0",
          "state": {
            "_model_module": "@jupyter-widgets/base",
            "_model_module_version": "1.2.0",
            "_model_name": "LayoutModel",
            "_view_count": null,
            "_view_module": "@jupyter-widgets/base",
            "_view_module_version": "1.2.0",
            "_view_name": "LayoutView",
            "align_content": null,
            "align_items": null,
            "align_self": null,
            "border": null,
            "bottom": null,
            "display": null,
            "flex": null,
            "flex_flow": null,
            "grid_area": null,
            "grid_auto_columns": null,
            "grid_auto_flow": null,
            "grid_auto_rows": null,
            "grid_column": null,
            "grid_gap": null,
            "grid_row": null,
            "grid_template_areas": null,
            "grid_template_columns": null,
            "grid_template_rows": null,
            "height": null,
            "justify_content": null,
            "justify_items": null,
            "left": null,
            "margin": null,
            "max_height": null,
            "max_width": null,
            "min_height": null,
            "min_width": null,
            "object_fit": null,
            "object_position": null,
            "order": null,
            "overflow": null,
            "overflow_x": null,
            "overflow_y": null,
            "padding": null,
            "right": null,
            "top": null,
            "visibility": null,
            "width": null
          }
        },
        "9a041158171143a39b5a781b15293dc1": {
          "model_module": "@jupyter-widgets/controls",
          "model_name": "DescriptionStyleModel",
          "model_module_version": "1.5.0",
          "state": {
            "_model_module": "@jupyter-widgets/controls",
            "_model_module_version": "1.5.0",
            "_model_name": "DescriptionStyleModel",
            "_view_count": null,
            "_view_module": "@jupyter-widgets/base",
            "_view_module_version": "1.2.0",
            "_view_name": "StyleView",
            "description_width": ""
          }
        },
        "a4710a4bad6d4fb092a75a262e5fb7e1": {
          "model_module": "@jupyter-widgets/controls",
          "model_name": "HBoxModel",
          "model_module_version": "1.5.0",
          "state": {
            "_dom_classes": [],
            "_model_module": "@jupyter-widgets/controls",
            "_model_module_version": "1.5.0",
            "_model_name": "HBoxModel",
            "_view_count": null,
            "_view_module": "@jupyter-widgets/controls",
            "_view_module_version": "1.5.0",
            "_view_name": "HBoxView",
            "box_style": "",
            "children": [
              "IPY_MODEL_07529f298578462089d51cc8ee93385c",
              "IPY_MODEL_e4e412629fb840f3a5344a37ce644a3c",
              "IPY_MODEL_bc44a60e9d2a4fae81c7d685b84269f2"
            ],
            "layout": "IPY_MODEL_98a8cabf90ff4edb9ccb2ed5950653ac"
          }
        },
        "07529f298578462089d51cc8ee93385c": {
          "model_module": "@jupyter-widgets/controls",
          "model_name": "HTMLModel",
          "model_module_version": "1.5.0",
          "state": {
            "_dom_classes": [],
            "_model_module": "@jupyter-widgets/controls",
            "_model_module_version": "1.5.0",
            "_model_name": "HTMLModel",
            "_view_count": null,
            "_view_module": "@jupyter-widgets/controls",
            "_view_module_version": "1.5.0",
            "_view_name": "HTMLView",
            "description": "",
            "description_tooltip": null,
            "layout": "IPY_MODEL_43f28315ad504d53bed438a2aca4d43a",
            "placeholder": "​",
            "style": "IPY_MODEL_b6dc397b766147aca5d40dbd67fe5616",
            "value": "Downloading: 100%"
          }
        },
        "e4e412629fb840f3a5344a37ce644a3c": {
          "model_module": "@jupyter-widgets/controls",
          "model_name": "FloatProgressModel",
          "model_module_version": "1.5.0",
          "state": {
            "_dom_classes": [],
            "_model_module": "@jupyter-widgets/controls",
            "_model_module_version": "1.5.0",
            "_model_name": "FloatProgressModel",
            "_view_count": null,
            "_view_module": "@jupyter-widgets/controls",
            "_view_module_version": "1.5.0",
            "_view_name": "ProgressView",
            "bar_style": "success",
            "description": "",
            "description_tooltip": null,
            "layout": "IPY_MODEL_03125355623a429f927121008ac560a8",
            "max": 570,
            "min": 0,
            "orientation": "horizontal",
            "style": "IPY_MODEL_fcfcef329ac24b08830f9e1fd592f10c",
            "value": 570
          }
        },
        "bc44a60e9d2a4fae81c7d685b84269f2": {
          "model_module": "@jupyter-widgets/controls",
          "model_name": "HTMLModel",
          "model_module_version": "1.5.0",
          "state": {
            "_dom_classes": [],
            "_model_module": "@jupyter-widgets/controls",
            "_model_module_version": "1.5.0",
            "_model_name": "HTMLModel",
            "_view_count": null,
            "_view_module": "@jupyter-widgets/controls",
            "_view_module_version": "1.5.0",
            "_view_name": "HTMLView",
            "description": "",
            "description_tooltip": null,
            "layout": "IPY_MODEL_2cd38a99e82d45e596fea9cf913a818c",
            "placeholder": "​",
            "style": "IPY_MODEL_9bcee5ba2baf44eca22f5754c11637da",
            "value": " 570/570 [00:00&lt;00:00, 17.0kB/s]"
          }
        },
        "98a8cabf90ff4edb9ccb2ed5950653ac": {
          "model_module": "@jupyter-widgets/base",
          "model_name": "LayoutModel",
          "model_module_version": "1.2.0",
          "state": {
            "_model_module": "@jupyter-widgets/base",
            "_model_module_version": "1.2.0",
            "_model_name": "LayoutModel",
            "_view_count": null,
            "_view_module": "@jupyter-widgets/base",
            "_view_module_version": "1.2.0",
            "_view_name": "LayoutView",
            "align_content": null,
            "align_items": null,
            "align_self": null,
            "border": null,
            "bottom": null,
            "display": null,
            "flex": null,
            "flex_flow": null,
            "grid_area": null,
            "grid_auto_columns": null,
            "grid_auto_flow": null,
            "grid_auto_rows": null,
            "grid_column": null,
            "grid_gap": null,
            "grid_row": null,
            "grid_template_areas": null,
            "grid_template_columns": null,
            "grid_template_rows": null,
            "height": null,
            "justify_content": null,
            "justify_items": null,
            "left": null,
            "margin": null,
            "max_height": null,
            "max_width": null,
            "min_height": null,
            "min_width": null,
            "object_fit": null,
            "object_position": null,
            "order": null,
            "overflow": null,
            "overflow_x": null,
            "overflow_y": null,
            "padding": null,
            "right": null,
            "top": null,
            "visibility": null,
            "width": null
          }
        },
        "43f28315ad504d53bed438a2aca4d43a": {
          "model_module": "@jupyter-widgets/base",
          "model_name": "LayoutModel",
          "model_module_version": "1.2.0",
          "state": {
            "_model_module": "@jupyter-widgets/base",
            "_model_module_version": "1.2.0",
            "_model_name": "LayoutModel",
            "_view_count": null,
            "_view_module": "@jupyter-widgets/base",
            "_view_module_version": "1.2.0",
            "_view_name": "LayoutView",
            "align_content": null,
            "align_items": null,
            "align_self": null,
            "border": null,
            "bottom": null,
            "display": null,
            "flex": null,
            "flex_flow": null,
            "grid_area": null,
            "grid_auto_columns": null,
            "grid_auto_flow": null,
            "grid_auto_rows": null,
            "grid_column": null,
            "grid_gap": null,
            "grid_row": null,
            "grid_template_areas": null,
            "grid_template_columns": null,
            "grid_template_rows": null,
            "height": null,
            "justify_content": null,
            "justify_items": null,
            "left": null,
            "margin": null,
            "max_height": null,
            "max_width": null,
            "min_height": null,
            "min_width": null,
            "object_fit": null,
            "object_position": null,
            "order": null,
            "overflow": null,
            "overflow_x": null,
            "overflow_y": null,
            "padding": null,
            "right": null,
            "top": null,
            "visibility": null,
            "width": null
          }
        },
        "b6dc397b766147aca5d40dbd67fe5616": {
          "model_module": "@jupyter-widgets/controls",
          "model_name": "DescriptionStyleModel",
          "model_module_version": "1.5.0",
          "state": {
            "_model_module": "@jupyter-widgets/controls",
            "_model_module_version": "1.5.0",
            "_model_name": "DescriptionStyleModel",
            "_view_count": null,
            "_view_module": "@jupyter-widgets/base",
            "_view_module_version": "1.2.0",
            "_view_name": "StyleView",
            "description_width": ""
          }
        },
        "03125355623a429f927121008ac560a8": {
          "model_module": "@jupyter-widgets/base",
          "model_name": "LayoutModel",
          "model_module_version": "1.2.0",
          "state": {
            "_model_module": "@jupyter-widgets/base",
            "_model_module_version": "1.2.0",
            "_model_name": "LayoutModel",
            "_view_count": null,
            "_view_module": "@jupyter-widgets/base",
            "_view_module_version": "1.2.0",
            "_view_name": "LayoutView",
            "align_content": null,
            "align_items": null,
            "align_self": null,
            "border": null,
            "bottom": null,
            "display": null,
            "flex": null,
            "flex_flow": null,
            "grid_area": null,
            "grid_auto_columns": null,
            "grid_auto_flow": null,
            "grid_auto_rows": null,
            "grid_column": null,
            "grid_gap": null,
            "grid_row": null,
            "grid_template_areas": null,
            "grid_template_columns": null,
            "grid_template_rows": null,
            "height": null,
            "justify_content": null,
            "justify_items": null,
            "left": null,
            "margin": null,
            "max_height": null,
            "max_width": null,
            "min_height": null,
            "min_width": null,
            "object_fit": null,
            "object_position": null,
            "order": null,
            "overflow": null,
            "overflow_x": null,
            "overflow_y": null,
            "padding": null,
            "right": null,
            "top": null,
            "visibility": null,
            "width": null
          }
        },
        "fcfcef329ac24b08830f9e1fd592f10c": {
          "model_module": "@jupyter-widgets/controls",
          "model_name": "ProgressStyleModel",
          "model_module_version": "1.5.0",
          "state": {
            "_model_module": "@jupyter-widgets/controls",
            "_model_module_version": "1.5.0",
            "_model_name": "ProgressStyleModel",
            "_view_count": null,
            "_view_module": "@jupyter-widgets/base",
            "_view_module_version": "1.2.0",
            "_view_name": "StyleView",
            "bar_color": null,
            "description_width": ""
          }
        },
        "2cd38a99e82d45e596fea9cf913a818c": {
          "model_module": "@jupyter-widgets/base",
          "model_name": "LayoutModel",
          "model_module_version": "1.2.0",
          "state": {
            "_model_module": "@jupyter-widgets/base",
            "_model_module_version": "1.2.0",
            "_model_name": "LayoutModel",
            "_view_count": null,
            "_view_module": "@jupyter-widgets/base",
            "_view_module_version": "1.2.0",
            "_view_name": "LayoutView",
            "align_content": null,
            "align_items": null,
            "align_self": null,
            "border": null,
            "bottom": null,
            "display": null,
            "flex": null,
            "flex_flow": null,
            "grid_area": null,
            "grid_auto_columns": null,
            "grid_auto_flow": null,
            "grid_auto_rows": null,
            "grid_column": null,
            "grid_gap": null,
            "grid_row": null,
            "grid_template_areas": null,
            "grid_template_columns": null,
            "grid_template_rows": null,
            "height": null,
            "justify_content": null,
            "justify_items": null,
            "left": null,
            "margin": null,
            "max_height": null,
            "max_width": null,
            "min_height": null,
            "min_width": null,
            "object_fit": null,
            "object_position": null,
            "order": null,
            "overflow": null,
            "overflow_x": null,
            "overflow_y": null,
            "padding": null,
            "right": null,
            "top": null,
            "visibility": null,
            "width": null
          }
        },
        "9bcee5ba2baf44eca22f5754c11637da": {
          "model_module": "@jupyter-widgets/controls",
          "model_name": "DescriptionStyleModel",
          "model_module_version": "1.5.0",
          "state": {
            "_model_module": "@jupyter-widgets/controls",
            "_model_module_version": "1.5.0",
            "_model_name": "DescriptionStyleModel",
            "_view_count": null,
            "_view_module": "@jupyter-widgets/base",
            "_view_module_version": "1.2.0",
            "_view_name": "StyleView",
            "description_width": ""
          }
        },
        "187b7507ad814a5c94164aa1c8ee1705": {
          "model_module": "@jupyter-widgets/controls",
          "model_name": "HBoxModel",
          "model_module_version": "1.5.0",
          "state": {
            "_dom_classes": [],
            "_model_module": "@jupyter-widgets/controls",
            "_model_module_version": "1.5.0",
            "_model_name": "HBoxModel",
            "_view_count": null,
            "_view_module": "@jupyter-widgets/controls",
            "_view_module_version": "1.5.0",
            "_view_name": "HBoxView",
            "box_style": "",
            "children": [
              "IPY_MODEL_4f030b4a769e43e59af77ae56d173243",
              "IPY_MODEL_41df5f562f8b49d78a57ba4972ff8cd3",
              "IPY_MODEL_b21c10790b774c43884e50258b4c7010"
            ],
            "layout": "IPY_MODEL_f5105acf6cc841c0a090a760070b4d57"
          }
        },
        "4f030b4a769e43e59af77ae56d173243": {
          "model_module": "@jupyter-widgets/controls",
          "model_name": "HTMLModel",
          "model_module_version": "1.5.0",
          "state": {
            "_dom_classes": [],
            "_model_module": "@jupyter-widgets/controls",
            "_model_module_version": "1.5.0",
            "_model_name": "HTMLModel",
            "_view_count": null,
            "_view_module": "@jupyter-widgets/controls",
            "_view_module_version": "1.5.0",
            "_view_name": "HTMLView",
            "description": "",
            "description_tooltip": null,
            "layout": "IPY_MODEL_f15059883e5b46a5804a2ed562d6d82e",
            "placeholder": "​",
            "style": "IPY_MODEL_bca886bcb5bb4adeb2d6788ec0dcdfc1",
            "value": "Downloading: 100%"
          }
        },
        "41df5f562f8b49d78a57ba4972ff8cd3": {
          "model_module": "@jupyter-widgets/controls",
          "model_name": "FloatProgressModel",
          "model_module_version": "1.5.0",
          "state": {
            "_dom_classes": [],
            "_model_module": "@jupyter-widgets/controls",
            "_model_module_version": "1.5.0",
            "_model_name": "FloatProgressModel",
            "_view_count": null,
            "_view_module": "@jupyter-widgets/controls",
            "_view_module_version": "1.5.0",
            "_view_name": "ProgressView",
            "bar_style": "success",
            "description": "",
            "description_tooltip": null,
            "layout": "IPY_MODEL_64860b5225ee44b9bd210003e41acb32",
            "max": 435779157,
            "min": 0,
            "orientation": "horizontal",
            "style": "IPY_MODEL_0a1dc85a3960440c8d7cb29f5d296843",
            "value": 435779157
          }
        },
        "b21c10790b774c43884e50258b4c7010": {
          "model_module": "@jupyter-widgets/controls",
          "model_name": "HTMLModel",
          "model_module_version": "1.5.0",
          "state": {
            "_dom_classes": [],
            "_model_module": "@jupyter-widgets/controls",
            "_model_module_version": "1.5.0",
            "_model_name": "HTMLModel",
            "_view_count": null,
            "_view_module": "@jupyter-widgets/controls",
            "_view_module_version": "1.5.0",
            "_view_name": "HTMLView",
            "description": "",
            "description_tooltip": null,
            "layout": "IPY_MODEL_70314fbfe7374aa78090efe1aaea8c03",
            "placeholder": "​",
            "style": "IPY_MODEL_f69943c77fdb46e0bc0f1be12715c610",
            "value": " 416M/416M [00:07&lt;00:00, 60.2MB/s]"
          }
        },
        "f5105acf6cc841c0a090a760070b4d57": {
          "model_module": "@jupyter-widgets/base",
          "model_name": "LayoutModel",
          "model_module_version": "1.2.0",
          "state": {
            "_model_module": "@jupyter-widgets/base",
            "_model_module_version": "1.2.0",
            "_model_name": "LayoutModel",
            "_view_count": null,
            "_view_module": "@jupyter-widgets/base",
            "_view_module_version": "1.2.0",
            "_view_name": "LayoutView",
            "align_content": null,
            "align_items": null,
            "align_self": null,
            "border": null,
            "bottom": null,
            "display": null,
            "flex": null,
            "flex_flow": null,
            "grid_area": null,
            "grid_auto_columns": null,
            "grid_auto_flow": null,
            "grid_auto_rows": null,
            "grid_column": null,
            "grid_gap": null,
            "grid_row": null,
            "grid_template_areas": null,
            "grid_template_columns": null,
            "grid_template_rows": null,
            "height": null,
            "justify_content": null,
            "justify_items": null,
            "left": null,
            "margin": null,
            "max_height": null,
            "max_width": null,
            "min_height": null,
            "min_width": null,
            "object_fit": null,
            "object_position": null,
            "order": null,
            "overflow": null,
            "overflow_x": null,
            "overflow_y": null,
            "padding": null,
            "right": null,
            "top": null,
            "visibility": null,
            "width": null
          }
        },
        "f15059883e5b46a5804a2ed562d6d82e": {
          "model_module": "@jupyter-widgets/base",
          "model_name": "LayoutModel",
          "model_module_version": "1.2.0",
          "state": {
            "_model_module": "@jupyter-widgets/base",
            "_model_module_version": "1.2.0",
            "_model_name": "LayoutModel",
            "_view_count": null,
            "_view_module": "@jupyter-widgets/base",
            "_view_module_version": "1.2.0",
            "_view_name": "LayoutView",
            "align_content": null,
            "align_items": null,
            "align_self": null,
            "border": null,
            "bottom": null,
            "display": null,
            "flex": null,
            "flex_flow": null,
            "grid_area": null,
            "grid_auto_columns": null,
            "grid_auto_flow": null,
            "grid_auto_rows": null,
            "grid_column": null,
            "grid_gap": null,
            "grid_row": null,
            "grid_template_areas": null,
            "grid_template_columns": null,
            "grid_template_rows": null,
            "height": null,
            "justify_content": null,
            "justify_items": null,
            "left": null,
            "margin": null,
            "max_height": null,
            "max_width": null,
            "min_height": null,
            "min_width": null,
            "object_fit": null,
            "object_position": null,
            "order": null,
            "overflow": null,
            "overflow_x": null,
            "overflow_y": null,
            "padding": null,
            "right": null,
            "top": null,
            "visibility": null,
            "width": null
          }
        },
        "bca886bcb5bb4adeb2d6788ec0dcdfc1": {
          "model_module": "@jupyter-widgets/controls",
          "model_name": "DescriptionStyleModel",
          "model_module_version": "1.5.0",
          "state": {
            "_model_module": "@jupyter-widgets/controls",
            "_model_module_version": "1.5.0",
            "_model_name": "DescriptionStyleModel",
            "_view_count": null,
            "_view_module": "@jupyter-widgets/base",
            "_view_module_version": "1.2.0",
            "_view_name": "StyleView",
            "description_width": ""
          }
        },
        "64860b5225ee44b9bd210003e41acb32": {
          "model_module": "@jupyter-widgets/base",
          "model_name": "LayoutModel",
          "model_module_version": "1.2.0",
          "state": {
            "_model_module": "@jupyter-widgets/base",
            "_model_module_version": "1.2.0",
            "_model_name": "LayoutModel",
            "_view_count": null,
            "_view_module": "@jupyter-widgets/base",
            "_view_module_version": "1.2.0",
            "_view_name": "LayoutView",
            "align_content": null,
            "align_items": null,
            "align_self": null,
            "border": null,
            "bottom": null,
            "display": null,
            "flex": null,
            "flex_flow": null,
            "grid_area": null,
            "grid_auto_columns": null,
            "grid_auto_flow": null,
            "grid_auto_rows": null,
            "grid_column": null,
            "grid_gap": null,
            "grid_row": null,
            "grid_template_areas": null,
            "grid_template_columns": null,
            "grid_template_rows": null,
            "height": null,
            "justify_content": null,
            "justify_items": null,
            "left": null,
            "margin": null,
            "max_height": null,
            "max_width": null,
            "min_height": null,
            "min_width": null,
            "object_fit": null,
            "object_position": null,
            "order": null,
            "overflow": null,
            "overflow_x": null,
            "overflow_y": null,
            "padding": null,
            "right": null,
            "top": null,
            "visibility": null,
            "width": null
          }
        },
        "0a1dc85a3960440c8d7cb29f5d296843": {
          "model_module": "@jupyter-widgets/controls",
          "model_name": "ProgressStyleModel",
          "model_module_version": "1.5.0",
          "state": {
            "_model_module": "@jupyter-widgets/controls",
            "_model_module_version": "1.5.0",
            "_model_name": "ProgressStyleModel",
            "_view_count": null,
            "_view_module": "@jupyter-widgets/base",
            "_view_module_version": "1.2.0",
            "_view_name": "StyleView",
            "bar_color": null,
            "description_width": ""
          }
        },
        "70314fbfe7374aa78090efe1aaea8c03": {
          "model_module": "@jupyter-widgets/base",
          "model_name": "LayoutModel",
          "model_module_version": "1.2.0",
          "state": {
            "_model_module": "@jupyter-widgets/base",
            "_model_module_version": "1.2.0",
            "_model_name": "LayoutModel",
            "_view_count": null,
            "_view_module": "@jupyter-widgets/base",
            "_view_module_version": "1.2.0",
            "_view_name": "LayoutView",
            "align_content": null,
            "align_items": null,
            "align_self": null,
            "border": null,
            "bottom": null,
            "display": null,
            "flex": null,
            "flex_flow": null,
            "grid_area": null,
            "grid_auto_columns": null,
            "grid_auto_flow": null,
            "grid_auto_rows": null,
            "grid_column": null,
            "grid_gap": null,
            "grid_row": null,
            "grid_template_areas": null,
            "grid_template_columns": null,
            "grid_template_rows": null,
            "height": null,
            "justify_content": null,
            "justify_items": null,
            "left": null,
            "margin": null,
            "max_height": null,
            "max_width": null,
            "min_height": null,
            "min_width": null,
            "object_fit": null,
            "object_position": null,
            "order": null,
            "overflow": null,
            "overflow_x": null,
            "overflow_y": null,
            "padding": null,
            "right": null,
            "top": null,
            "visibility": null,
            "width": null
          }
        },
        "f69943c77fdb46e0bc0f1be12715c610": {
          "model_module": "@jupyter-widgets/controls",
          "model_name": "DescriptionStyleModel",
          "model_module_version": "1.5.0",
          "state": {
            "_model_module": "@jupyter-widgets/controls",
            "_model_module_version": "1.5.0",
            "_model_name": "DescriptionStyleModel",
            "_view_count": null,
            "_view_module": "@jupyter-widgets/base",
            "_view_module_version": "1.2.0",
            "_view_name": "StyleView",
            "description_width": ""
          }
        }
      }
    }
  },
  "nbformat": 4,
  "nbformat_minor": 0
}